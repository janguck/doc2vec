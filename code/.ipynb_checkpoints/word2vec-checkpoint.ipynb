{
 "cells": [
  {
   "cell_type": "code",
   "execution_count": 1,
   "metadata": {
    "collapsed": false
   },
   "outputs": [],
   "source": [
    "def read_data(filename):\n",
    "    with open(filename, 'r') as f:\n",
    "        data = [line.split('\\t') for line in f.read().splitlines()]\n",
    "        data = data[1:]\n",
    "    return data\n",
    "train_data = read_data('../data/ratings_train.txt')\n",
    "test_data = read_data('../data/ratings_test.txt')"
   ]
  },
  {
   "cell_type": "code",
   "execution_count": 2,
   "metadata": {
    "collapsed": true
   },
   "outputs": [],
   "source": [
    "from konlpy.tag import Twitter\n",
    "pos_tagger = Twitter()\n",
    "def tokenize(doc):\n",
    "    return ['/'.join(t) for t in pos_tagger.pos(doc)]"
   ]
  },
  {
   "cell_type": "code",
   "execution_count": 3,
   "metadata": {
    "collapsed": true
   },
   "outputs": [],
   "source": [
    "from konlpy.tag import Twitter\n",
    "pos_tagger = Twitter()\n",
    "def tokenize(doc):\n",
    "    return ['/'.join(t) for t in pos_tagger.pos(doc, norm=True, stem=True)]"
   ]
  },
  {
   "cell_type": "code",
   "execution_count": 4,
   "metadata": {
    "collapsed": true
   },
   "outputs": [],
   "source": [
    "train_docs = [tokenize(row[1]) for row in train_data]"
   ]
  },
  {
   "cell_type": "code",
   "execution_count": 5,
   "metadata": {
    "collapsed": true
   },
   "outputs": [],
   "source": [
    "from gensim.models import word2vec\n",
    "model = word2vec.Word2Vec(train_docs, size=100, window=5, min_count=5, workers=4)"
   ]
  },
  {
   "cell_type": "code",
   "execution_count": 6,
   "metadata": {
    "collapsed": false
   },
   "outputs": [
    {
     "data": {
      "text/plain": [
       "[('장교/Noun', 0.8361063599586487),\n",
       " ('개미/Noun', 0.82738196849823),\n",
       " ('전사/Noun', 0.8220987319946289),\n",
       " ('한나라/Noun', 0.8191564679145813),\n",
       " ('시집/Noun', 0.8169876337051392),\n",
       " ('해리/Noun', 0.8153416514396667),\n",
       " ('사자/Noun', 0.813448429107666),\n",
       " ('장학우/Noun', 0.8122480511665344),\n",
       " ('윌/Noun', 0.8116372227668762),\n",
       " ('외계/Noun', 0.8109077215194702)]"
      ]
     },
     "execution_count": 6,
     "metadata": {},
     "output_type": "execute_result"
    }
   ],
   "source": [
    "model.most_similar('마녀/Noun')"
   ]
  },
  {
   "cell_type": "code",
   "execution_count": 7,
   "metadata": {
    "collapsed": false
   },
   "outputs": [
    {
     "data": {
      "text/plain": [
       "[('대고/Noun', 0.8278569579124451),\n",
       " ('꽥꽥/Adverb', 0.8262115716934204),\n",
       " ('꽥/Adverb', 0.8212988376617432),\n",
       " ('이빨/Noun', 0.8210150003433228),\n",
       " ('고래고래/Noun', 0.818437933921814),\n",
       " ('타이/Noun', 0.8177475929260254),\n",
       " ('아나운서/Noun', 0.817612886428833),\n",
       " ('달려들다/Verb', 0.8167369365692139),\n",
       " ('황마/Noun', 0.8158767223358154),\n",
       " ('.,./Punctuation', 0.8156751394271851)]"
      ]
     },
     "execution_count": 7,
     "metadata": {},
     "output_type": "execute_result"
    }
   ],
   "source": [
    "model.most_similar('징징대다/Adjective')"
   ]
  },
  {
   "cell_type": "code",
   "execution_count": 8,
   "metadata": {
    "collapsed": false
   },
   "outputs": [
    {
     "data": {
      "text/plain": [
       "[('애니/Noun', 0.6750807762145996),\n",
       " ('공포영화/Noun', 0.6393095254898071),\n",
       " ('드라마/Noun', 0.6228259801864624),\n",
       " ('다큐/Noun', 0.6117784976959229),\n",
       " ('다큐멘터리/Noun', 0.5817378759384155),\n",
       " ('작품/Noun', 0.5612936019897461),\n",
       " ('액션영화/Noun', 0.5528713464736938),\n",
       " ('실화/Noun', 0.549321711063385),\n",
       " ('독립영화/Noun', 0.5388516783714294),\n",
       " ('소재/Noun', 0.5374602675437927)]"
      ]
     },
     "execution_count": 8,
     "metadata": {},
     "output_type": "execute_result"
    }
   ],
   "source": [
    "model.most_similar('영화/Noun')"
   ]
  },
  {
   "cell_type": "code",
   "execution_count": 9,
   "metadata": {
    "collapsed": false
   },
   "outputs": [
    {
     "data": {
      "text/plain": [
       "[('블록/Noun', 0.8685336112976074),\n",
       " ('산드라/Noun', 0.8657655715942383),\n",
       " ('콜린/Noun', 0.8606580495834351),\n",
       " ('샤를/Noun', 0.8535332083702087),\n",
       " ('드류/Noun', 0.852648138999939),\n",
       " ('아놀드/Noun', 0.8464522361755371),\n",
       " ('미키/Noun', 0.8459034562110901),\n",
       " ('루크/Noun', 0.8452905416488647),\n",
       " ('크리스/Noun', 0.844622015953064),\n",
       " ('이보영/Noun', 0.8432461023330688)]"
      ]
     },
     "execution_count": 9,
     "metadata": {},
     "output_type": "execute_result"
    }
   ],
   "source": [
    "model.most_similar('누님/Noun')"
   ]
  }
 ],
 "metadata": {
  "anaconda-cloud": {},
  "kernelspec": {
   "display_name": "Python [conda env:ml_python]",
   "language": "python",
   "name": "conda-env-ml_python-py"
  },
  "language_info": {
   "codemirror_mode": {
    "name": "ipython",
    "version": 3
   },
   "file_extension": ".py",
   "mimetype": "text/x-python",
   "name": "python",
   "nbconvert_exporter": "python",
   "pygments_lexer": "ipython3",
   "version": "3.5.2"
  }
 },
 "nbformat": 4,
 "nbformat_minor": 1
}
